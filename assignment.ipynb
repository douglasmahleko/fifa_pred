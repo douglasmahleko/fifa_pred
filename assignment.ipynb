{
 "cells": [
  {
   "cell_type": "code",
   "execution_count": 1,
   "id": "a7386a2d",
   "metadata": {},
   "outputs": [],
   "source": [
    "\n",
    "import pandas as pd\n",
    "import numpy as np"
   ]
  },
  {
   "cell_type": "code",
   "execution_count": 2,
   "id": "d7767316",
   "metadata": {},
   "outputs": [],
   "source": [
    "df = pd.read_csv('players_15.csv')"
   ]
  },
  {
   "cell_type": "code",
   "execution_count": 3,
   "id": "50813cd9",
   "metadata": {},
   "outputs": [],
   "source": [
    "dataf = pd.DataFrame(df)"
   ]
  },
  {
   "cell_type": "code",
   "execution_count": 4,
   "id": "2ef71030",
   "metadata": {},
   "outputs": [],
   "source": [
    "unwanted =['sofifa_id', 'height_cm','weight_kg','club','mentality_composure','body_type','nation_jersey_number','team_jersey_number','contract_valid_until','joined','loaned_from','real_face', 'nationality','release_clause_eur','wage_eur','value_eur', 'dob', 'long_name', 'short_name', 'player_url']"
   ]
  },
  {
   "cell_type": "code",
   "execution_count": 5,
   "id": "cbd56518",
   "metadata": {},
   "outputs": [],
   "source": [
    "newd = dataf.drop(unwanted, axis =1)"
   ]
  },
  {
   "cell_type": "code",
   "execution_count": 6,
   "id": "2f15a8f4",
   "metadata": {},
   "outputs": [
    {
     "name": "stdout",
     "output_type": "stream",
     "text": [
      "age\n",
      "overall\n",
      "potential\n",
      "player_positions\n",
      "preferred_foot\n",
      "international_reputation\n",
      "weak_foot\n",
      "skill_moves\n",
      "work_rate\n",
      "player_tags\n",
      "team_position\n",
      "nation_position\n",
      "pace\n",
      "shooting\n",
      "passing\n",
      "dribbling\n",
      "defending\n",
      "physic\n",
      "gk_diving\n",
      "gk_handling\n",
      "gk_kicking\n",
      "gk_reflexes\n",
      "gk_speed\n",
      "gk_positioning\n",
      "player_traits\n",
      "attacking_crossing\n",
      "attacking_finishing\n",
      "attacking_heading_accuracy\n",
      "attacking_short_passing\n",
      "attacking_volleys\n",
      "skill_dribbling\n",
      "skill_curve\n",
      "skill_fk_accuracy\n",
      "skill_long_passing\n",
      "skill_ball_control\n",
      "movement_acceleration\n",
      "movement_sprint_speed\n",
      "movement_agility\n",
      "movement_reactions\n",
      "movement_balance\n",
      "power_shot_power\n",
      "power_jumping\n",
      "power_stamina\n",
      "power_strength\n",
      "power_long_shots\n",
      "mentality_aggression\n",
      "mentality_interceptions\n",
      "mentality_positioning\n",
      "mentality_vision\n",
      "mentality_penalties\n",
      "defending_marking\n",
      "defending_standing_tackle\n",
      "defending_sliding_tackle\n",
      "goalkeeping_diving\n",
      "goalkeeping_handling\n",
      "goalkeeping_kicking\n",
      "goalkeeping_positioning\n",
      "goalkeeping_reflexes\n",
      "ls\n",
      "st\n",
      "rs\n",
      "lw\n",
      "lf\n",
      "cf\n",
      "rf\n",
      "rw\n",
      "lam\n",
      "cam\n",
      "ram\n",
      "lm\n",
      "lcm\n",
      "cm\n",
      "rcm\n",
      "rm\n",
      "lwb\n",
      "ldm\n",
      "cdm\n",
      "rdm\n",
      "rwb\n",
      "lb\n",
      "lcb\n",
      "cb\n",
      "rcb\n",
      "rb\n"
     ]
    }
   ],
   "source": [
    "for i in newd.columns:\n",
    "    print(i)"
   ]
  },
  {
   "cell_type": "code",
   "execution_count": 7,
   "id": "b6db2983",
   "metadata": {},
   "outputs": [],
   "source": [
    "isna = []\n",
    "notna = []\n",
    "for i in newd:\n",
    "    g = newd[i].isna().sum()\n",
    "    if g == 0:\n",
    "        notna.append(i)\n",
    "    else:\n",
    "        isna.append(i)"
   ]
  },
  {
   "cell_type": "code",
   "execution_count": 8,
   "id": "c49241b7",
   "metadata": {},
   "outputs": [],
   "source": [
    "isnadf = newd.drop(notna, axis = 1)"
   ]
  },
  {
   "cell_type": "code",
   "execution_count": 9,
   "id": "0b8fac64",
   "metadata": {},
   "outputs": [],
   "source": [
    "for i in isnadf:\n",
    "    dtyp = type(isnadf[i].iloc[0])\n",
    "    if dtyp == str:\n",
    "        isnadf[i].fillna('na', inplace = True)"
   ]
  },
  {
   "cell_type": "code",
   "execution_count": 10,
   "id": "f31a5e12",
   "metadata": {},
   "outputs": [],
   "source": [
    "isnadf.fillna(0, inplace = True)"
   ]
  },
  {
   "cell_type": "code",
   "execution_count": 11,
   "id": "7643c7d3",
   "metadata": {},
   "outputs": [],
   "source": [
    "for i in isnadf.columns:\n",
    "    newd[i] = isnadf[i]"
   ]
  },
  {
   "cell_type": "code",
   "execution_count": 12,
   "id": "d67da945",
   "metadata": {},
   "outputs": [],
   "source": [
    "newd_notcoded = newd"
   ]
  },
  {
   "cell_type": "code",
   "execution_count": 13,
   "id": "86929391",
   "metadata": {},
   "outputs": [],
   "source": [
    "for i in newd.columns:\n",
    "    if type(newd[i].iloc[1]) == str:\n",
    "        newd[i],_ = pd.factorize(newd[i])"
   ]
  },
  {
   "cell_type": "code",
   "execution_count": 14,
   "id": "b3090e12",
   "metadata": {},
   "outputs": [
    {
     "data": {
      "text/html": [
       "<div>\n",
       "<style scoped>\n",
       "    .dataframe tbody tr th:only-of-type {\n",
       "        vertical-align: middle;\n",
       "    }\n",
       "\n",
       "    .dataframe tbody tr th {\n",
       "        vertical-align: top;\n",
       "    }\n",
       "\n",
       "    .dataframe thead th {\n",
       "        text-align: right;\n",
       "    }\n",
       "</style>\n",
       "<table border=\"1\" class=\"dataframe\">\n",
       "  <thead>\n",
       "    <tr style=\"text-align: right;\">\n",
       "      <th></th>\n",
       "      <th>age</th>\n",
       "      <th>overall</th>\n",
       "      <th>potential</th>\n",
       "      <th>player_positions</th>\n",
       "      <th>preferred_foot</th>\n",
       "      <th>international_reputation</th>\n",
       "      <th>weak_foot</th>\n",
       "      <th>skill_moves</th>\n",
       "      <th>work_rate</th>\n",
       "      <th>player_tags</th>\n",
       "      <th>...</th>\n",
       "      <th>lwb</th>\n",
       "      <th>ldm</th>\n",
       "      <th>cdm</th>\n",
       "      <th>rdm</th>\n",
       "      <th>rwb</th>\n",
       "      <th>lb</th>\n",
       "      <th>lcb</th>\n",
       "      <th>cb</th>\n",
       "      <th>rcb</th>\n",
       "      <th>rb</th>\n",
       "    </tr>\n",
       "  </thead>\n",
       "  <tbody>\n",
       "    <tr>\n",
       "      <th>0</th>\n",
       "      <td>27</td>\n",
       "      <td>93</td>\n",
       "      <td>95</td>\n",
       "      <td>0</td>\n",
       "      <td>0</td>\n",
       "      <td>5</td>\n",
       "      <td>3</td>\n",
       "      <td>4</td>\n",
       "      <td>0</td>\n",
       "      <td>0</td>\n",
       "      <td>...</td>\n",
       "      <td>0</td>\n",
       "      <td>0</td>\n",
       "      <td>0</td>\n",
       "      <td>0</td>\n",
       "      <td>0</td>\n",
       "      <td>0</td>\n",
       "      <td>0</td>\n",
       "      <td>0</td>\n",
       "      <td>0</td>\n",
       "      <td>0</td>\n",
       "    </tr>\n",
       "    <tr>\n",
       "      <th>1</th>\n",
       "      <td>29</td>\n",
       "      <td>92</td>\n",
       "      <td>92</td>\n",
       "      <td>1</td>\n",
       "      <td>1</td>\n",
       "      <td>5</td>\n",
       "      <td>4</td>\n",
       "      <td>5</td>\n",
       "      <td>1</td>\n",
       "      <td>1</td>\n",
       "      <td>...</td>\n",
       "      <td>1</td>\n",
       "      <td>1</td>\n",
       "      <td>1</td>\n",
       "      <td>1</td>\n",
       "      <td>1</td>\n",
       "      <td>1</td>\n",
       "      <td>1</td>\n",
       "      <td>1</td>\n",
       "      <td>1</td>\n",
       "      <td>1</td>\n",
       "    </tr>\n",
       "    <tr>\n",
       "      <th>2</th>\n",
       "      <td>30</td>\n",
       "      <td>90</td>\n",
       "      <td>90</td>\n",
       "      <td>2</td>\n",
       "      <td>0</td>\n",
       "      <td>5</td>\n",
       "      <td>2</td>\n",
       "      <td>4</td>\n",
       "      <td>1</td>\n",
       "      <td>2</td>\n",
       "      <td>...</td>\n",
       "      <td>2</td>\n",
       "      <td>2</td>\n",
       "      <td>2</td>\n",
       "      <td>2</td>\n",
       "      <td>2</td>\n",
       "      <td>2</td>\n",
       "      <td>2</td>\n",
       "      <td>2</td>\n",
       "      <td>2</td>\n",
       "      <td>2</td>\n",
       "    </tr>\n",
       "    <tr>\n",
       "      <th>3</th>\n",
       "      <td>32</td>\n",
       "      <td>90</td>\n",
       "      <td>90</td>\n",
       "      <td>3</td>\n",
       "      <td>1</td>\n",
       "      <td>5</td>\n",
       "      <td>4</td>\n",
       "      <td>4</td>\n",
       "      <td>0</td>\n",
       "      <td>3</td>\n",
       "      <td>...</td>\n",
       "      <td>3</td>\n",
       "      <td>3</td>\n",
       "      <td>3</td>\n",
       "      <td>3</td>\n",
       "      <td>3</td>\n",
       "      <td>3</td>\n",
       "      <td>3</td>\n",
       "      <td>3</td>\n",
       "      <td>3</td>\n",
       "      <td>3</td>\n",
       "    </tr>\n",
       "    <tr>\n",
       "      <th>4</th>\n",
       "      <td>28</td>\n",
       "      <td>90</td>\n",
       "      <td>90</td>\n",
       "      <td>4</td>\n",
       "      <td>1</td>\n",
       "      <td>5</td>\n",
       "      <td>4</td>\n",
       "      <td>1</td>\n",
       "      <td>2</td>\n",
       "      <td>4</td>\n",
       "      <td>...</td>\n",
       "      <td>4</td>\n",
       "      <td>4</td>\n",
       "      <td>4</td>\n",
       "      <td>4</td>\n",
       "      <td>4</td>\n",
       "      <td>4</td>\n",
       "      <td>4</td>\n",
       "      <td>4</td>\n",
       "      <td>4</td>\n",
       "      <td>4</td>\n",
       "    </tr>\n",
       "    <tr>\n",
       "      <th>...</th>\n",
       "      <td>...</td>\n",
       "      <td>...</td>\n",
       "      <td>...</td>\n",
       "      <td>...</td>\n",
       "      <td>...</td>\n",
       "      <td>...</td>\n",
       "      <td>...</td>\n",
       "      <td>...</td>\n",
       "      <td>...</td>\n",
       "      <td>...</td>\n",
       "      <td>...</td>\n",
       "      <td>...</td>\n",
       "      <td>...</td>\n",
       "      <td>...</td>\n",
       "      <td>...</td>\n",
       "      <td>...</td>\n",
       "      <td>...</td>\n",
       "      <td>...</td>\n",
       "      <td>...</td>\n",
       "      <td>...</td>\n",
       "      <td>...</td>\n",
       "    </tr>\n",
       "    <tr>\n",
       "      <th>15460</th>\n",
       "      <td>17</td>\n",
       "      <td>41</td>\n",
       "      <td>61</td>\n",
       "      <td>11</td>\n",
       "      <td>1</td>\n",
       "      <td>1</td>\n",
       "      <td>2</td>\n",
       "      <td>2</td>\n",
       "      <td>2</td>\n",
       "      <td>4</td>\n",
       "      <td>...</td>\n",
       "      <td>105</td>\n",
       "      <td>107</td>\n",
       "      <td>107</td>\n",
       "      <td>107</td>\n",
       "      <td>105</td>\n",
       "      <td>110</td>\n",
       "      <td>113</td>\n",
       "      <td>113</td>\n",
       "      <td>113</td>\n",
       "      <td>110</td>\n",
       "    </tr>\n",
       "    <tr>\n",
       "      <th>15461</th>\n",
       "      <td>17</td>\n",
       "      <td>41</td>\n",
       "      <td>50</td>\n",
       "      <td>3</td>\n",
       "      <td>1</td>\n",
       "      <td>1</td>\n",
       "      <td>3</td>\n",
       "      <td>3</td>\n",
       "      <td>2</td>\n",
       "      <td>4</td>\n",
       "      <td>...</td>\n",
       "      <td>110</td>\n",
       "      <td>112</td>\n",
       "      <td>112</td>\n",
       "      <td>112</td>\n",
       "      <td>110</td>\n",
       "      <td>118</td>\n",
       "      <td>126</td>\n",
       "      <td>126</td>\n",
       "      <td>126</td>\n",
       "      <td>118</td>\n",
       "    </tr>\n",
       "    <tr>\n",
       "      <th>15462</th>\n",
       "      <td>18</td>\n",
       "      <td>40</td>\n",
       "      <td>50</td>\n",
       "      <td>107</td>\n",
       "      <td>0</td>\n",
       "      <td>1</td>\n",
       "      <td>3</td>\n",
       "      <td>2</td>\n",
       "      <td>2</td>\n",
       "      <td>4</td>\n",
       "      <td>...</td>\n",
       "      <td>95</td>\n",
       "      <td>98</td>\n",
       "      <td>98</td>\n",
       "      <td>98</td>\n",
       "      <td>95</td>\n",
       "      <td>76</td>\n",
       "      <td>108</td>\n",
       "      <td>108</td>\n",
       "      <td>108</td>\n",
       "      <td>76</td>\n",
       "    </tr>\n",
       "    <tr>\n",
       "      <th>15463</th>\n",
       "      <td>22</td>\n",
       "      <td>40</td>\n",
       "      <td>49</td>\n",
       "      <td>11</td>\n",
       "      <td>1</td>\n",
       "      <td>1</td>\n",
       "      <td>2</td>\n",
       "      <td>2</td>\n",
       "      <td>2</td>\n",
       "      <td>4</td>\n",
       "      <td>...</td>\n",
       "      <td>105</td>\n",
       "      <td>108</td>\n",
       "      <td>108</td>\n",
       "      <td>108</td>\n",
       "      <td>105</td>\n",
       "      <td>111</td>\n",
       "      <td>119</td>\n",
       "      <td>119</td>\n",
       "      <td>119</td>\n",
       "      <td>111</td>\n",
       "    </tr>\n",
       "    <tr>\n",
       "      <th>15464</th>\n",
       "      <td>41</td>\n",
       "      <td>40</td>\n",
       "      <td>40</td>\n",
       "      <td>33</td>\n",
       "      <td>1</td>\n",
       "      <td>1</td>\n",
       "      <td>3</td>\n",
       "      <td>2</td>\n",
       "      <td>2</td>\n",
       "      <td>4</td>\n",
       "      <td>...</td>\n",
       "      <td>108</td>\n",
       "      <td>106</td>\n",
       "      <td>106</td>\n",
       "      <td>106</td>\n",
       "      <td>108</td>\n",
       "      <td>115</td>\n",
       "      <td>127</td>\n",
       "      <td>127</td>\n",
       "      <td>127</td>\n",
       "      <td>115</td>\n",
       "    </tr>\n",
       "  </tbody>\n",
       "</table>\n",
       "<p>15465 rows × 84 columns</p>\n",
       "</div>"
      ],
      "text/plain": [
       "       age  overall  potential  player_positions  preferred_foot  \\\n",
       "0       27       93         95                 0               0   \n",
       "1       29       92         92                 1               1   \n",
       "2       30       90         90                 2               0   \n",
       "3       32       90         90                 3               1   \n",
       "4       28       90         90                 4               1   \n",
       "...    ...      ...        ...               ...             ...   \n",
       "15460   17       41         61                11               1   \n",
       "15461   17       41         50                 3               1   \n",
       "15462   18       40         50               107               0   \n",
       "15463   22       40         49                11               1   \n",
       "15464   41       40         40                33               1   \n",
       "\n",
       "       international_reputation  weak_foot  skill_moves  work_rate  \\\n",
       "0                             5          3            4          0   \n",
       "1                             5          4            5          1   \n",
       "2                             5          2            4          1   \n",
       "3                             5          4            4          0   \n",
       "4                             5          4            1          2   \n",
       "...                         ...        ...          ...        ...   \n",
       "15460                         1          2            2          2   \n",
       "15461                         1          3            3          2   \n",
       "15462                         1          3            2          2   \n",
       "15463                         1          2            2          2   \n",
       "15464                         1          3            2          2   \n",
       "\n",
       "       player_tags  ...  lwb  ldm  cdm  rdm  rwb   lb  lcb   cb  rcb   rb  \n",
       "0                0  ...    0    0    0    0    0    0    0    0    0    0  \n",
       "1                1  ...    1    1    1    1    1    1    1    1    1    1  \n",
       "2                2  ...    2    2    2    2    2    2    2    2    2    2  \n",
       "3                3  ...    3    3    3    3    3    3    3    3    3    3  \n",
       "4                4  ...    4    4    4    4    4    4    4    4    4    4  \n",
       "...            ...  ...  ...  ...  ...  ...  ...  ...  ...  ...  ...  ...  \n",
       "15460            4  ...  105  107  107  107  105  110  113  113  113  110  \n",
       "15461            4  ...  110  112  112  112  110  118  126  126  126  118  \n",
       "15462            4  ...   95   98   98   98   95   76  108  108  108   76  \n",
       "15463            4  ...  105  108  108  108  105  111  119  119  119  111  \n",
       "15464            4  ...  108  106  106  106  108  115  127  127  127  115  \n",
       "\n",
       "[15465 rows x 84 columns]"
      ]
     },
     "execution_count": 14,
     "metadata": {},
     "output_type": "execute_result"
    }
   ],
   "source": [
    "newd"
   ]
  },
  {
   "cell_type": "code",
   "execution_count": 15,
   "id": "298989dc",
   "metadata": {},
   "outputs": [],
   "source": [
    "from sklearn.preprocessing import StandardScaler"
   ]
  },
  {
   "cell_type": "code",
   "execution_count": 16,
   "id": "6e020dd3",
   "metadata": {},
   "outputs": [],
   "source": [
    "scaler = StandardScaler()"
   ]
  },
  {
   "cell_type": "code",
   "execution_count": 17,
   "id": "a60f95f0",
   "metadata": {},
   "outputs": [],
   "source": [
    "def coreslation(array, threshold):\n",
    "    col_set = set()\n",
    "    outputs = []\n",
    "    matrix = array.corr()\n",
    "    outputs.append(matrix)\n",
    "    for i in range(len(matrix.columns)):\n",
    "        for j in range(i):\n",
    "            if matrix.iloc[i, j] > threshold:\n",
    "                colname = matrix.columns[i]\n",
    "                col_set.add(colname)\n",
    "    outputs.append(col_set)\n",
    "    return outputs"
   ]
  },
  {
   "cell_type": "code",
   "execution_count": 18,
   "id": "3fc50e20",
   "metadata": {},
   "outputs": [],
   "source": [
    "outputs = coreslation(newd, 0.8)\n",
    "cor_table = outputs[0]\n",
    "cor_list_atr = outputs[1]"
   ]
  },
  {
   "cell_type": "code",
   "execution_count": 19,
   "id": "6b893e20",
   "metadata": {},
   "outputs": [
    {
     "data": {
      "text/html": [
       "<div>\n",
       "<style scoped>\n",
       "    .dataframe tbody tr th:only-of-type {\n",
       "        vertical-align: middle;\n",
       "    }\n",
       "\n",
       "    .dataframe tbody tr th {\n",
       "        vertical-align: top;\n",
       "    }\n",
       "\n",
       "    .dataframe thead th {\n",
       "        text-align: right;\n",
       "    }\n",
       "</style>\n",
       "<table border=\"1\" class=\"dataframe\">\n",
       "  <thead>\n",
       "    <tr style=\"text-align: right;\">\n",
       "      <th></th>\n",
       "      <th>age</th>\n",
       "      <th>overall</th>\n",
       "      <th>potential</th>\n",
       "      <th>player_positions</th>\n",
       "      <th>preferred_foot</th>\n",
       "      <th>international_reputation</th>\n",
       "      <th>weak_foot</th>\n",
       "      <th>skill_moves</th>\n",
       "      <th>work_rate</th>\n",
       "      <th>player_tags</th>\n",
       "      <th>...</th>\n",
       "      <th>lwb</th>\n",
       "      <th>ldm</th>\n",
       "      <th>cdm</th>\n",
       "      <th>rdm</th>\n",
       "      <th>rwb</th>\n",
       "      <th>lb</th>\n",
       "      <th>lcb</th>\n",
       "      <th>cb</th>\n",
       "      <th>rcb</th>\n",
       "      <th>rb</th>\n",
       "    </tr>\n",
       "  </thead>\n",
       "  <tbody>\n",
       "    <tr>\n",
       "      <th>age</th>\n",
       "      <td>1.000000</td>\n",
       "      <td>0.436108</td>\n",
       "      <td>-0.071597</td>\n",
       "      <td>0.014866</td>\n",
       "      <td>-0.009099</td>\n",
       "      <td>0.281662</td>\n",
       "      <td>0.085481</td>\n",
       "      <td>-0.002690</td>\n",
       "      <td>0.138972</td>\n",
       "      <td>0.048521</td>\n",
       "      <td>...</td>\n",
       "      <td>-0.203545</td>\n",
       "      <td>-0.238781</td>\n",
       "      <td>-0.238781</td>\n",
       "      <td>-0.238781</td>\n",
       "      <td>-0.203545</td>\n",
       "      <td>-0.147681</td>\n",
       "      <td>-0.115972</td>\n",
       "      <td>-0.115972</td>\n",
       "      <td>-0.115972</td>\n",
       "      <td>-0.147681</td>\n",
       "    </tr>\n",
       "    <tr>\n",
       "      <th>overall</th>\n",
       "      <td>0.436108</td>\n",
       "      <td>1.000000</td>\n",
       "      <td>0.805234</td>\n",
       "      <td>-0.048478</td>\n",
       "      <td>-0.032994</td>\n",
       "      <td>0.524089</td>\n",
       "      <td>0.227190</td>\n",
       "      <td>0.275949</td>\n",
       "      <td>0.088029</td>\n",
       "      <td>0.217896</td>\n",
       "      <td>...</td>\n",
       "      <td>-0.221844</td>\n",
       "      <td>-0.223131</td>\n",
       "      <td>-0.223131</td>\n",
       "      <td>-0.223131</td>\n",
       "      <td>-0.221844</td>\n",
       "      <td>-0.078388</td>\n",
       "      <td>-0.027369</td>\n",
       "      <td>-0.027369</td>\n",
       "      <td>-0.027369</td>\n",
       "      <td>-0.078388</td>\n",
       "    </tr>\n",
       "    <tr>\n",
       "      <th>potential</th>\n",
       "      <td>-0.071597</td>\n",
       "      <td>0.805234</td>\n",
       "      <td>1.000000</td>\n",
       "      <td>-0.068835</td>\n",
       "      <td>-0.033190</td>\n",
       "      <td>0.413315</td>\n",
       "      <td>0.197110</td>\n",
       "      <td>0.281444</td>\n",
       "      <td>0.017087</td>\n",
       "      <td>0.191862</td>\n",
       "      <td>...</td>\n",
       "      <td>-0.135012</td>\n",
       "      <td>-0.117051</td>\n",
       "      <td>-0.117051</td>\n",
       "      <td>-0.117051</td>\n",
       "      <td>-0.135012</td>\n",
       "      <td>-0.012292</td>\n",
       "      <td>0.020683</td>\n",
       "      <td>0.020683</td>\n",
       "      <td>0.020683</td>\n",
       "      <td>-0.012292</td>\n",
       "    </tr>\n",
       "    <tr>\n",
       "      <th>player_positions</th>\n",
       "      <td>0.014866</td>\n",
       "      <td>-0.048478</td>\n",
       "      <td>-0.068835</td>\n",
       "      <td>1.000000</td>\n",
       "      <td>-0.064753</td>\n",
       "      <td>-0.059644</td>\n",
       "      <td>0.116476</td>\n",
       "      <td>0.158375</td>\n",
       "      <td>0.004321</td>\n",
       "      <td>-0.004024</td>\n",
       "      <td>...</td>\n",
       "      <td>0.109297</td>\n",
       "      <td>0.123754</td>\n",
       "      <td>0.123754</td>\n",
       "      <td>0.123754</td>\n",
       "      <td>0.109297</td>\n",
       "      <td>0.125420</td>\n",
       "      <td>0.138290</td>\n",
       "      <td>0.138290</td>\n",
       "      <td>0.138290</td>\n",
       "      <td>0.125420</td>\n",
       "    </tr>\n",
       "    <tr>\n",
       "      <th>preferred_foot</th>\n",
       "      <td>-0.009099</td>\n",
       "      <td>-0.032994</td>\n",
       "      <td>-0.033190</td>\n",
       "      <td>-0.064753</td>\n",
       "      <td>1.000000</td>\n",
       "      <td>-0.005025</td>\n",
       "      <td>0.067217</td>\n",
       "      <td>-0.096019</td>\n",
       "      <td>0.018061</td>\n",
       "      <td>0.005489</td>\n",
       "      <td>...</td>\n",
       "      <td>-0.042134</td>\n",
       "      <td>-0.051659</td>\n",
       "      <td>-0.051659</td>\n",
       "      <td>-0.051659</td>\n",
       "      <td>-0.042134</td>\n",
       "      <td>-0.066196</td>\n",
       "      <td>-0.093558</td>\n",
       "      <td>-0.093558</td>\n",
       "      <td>-0.093558</td>\n",
       "      <td>-0.066196</td>\n",
       "    </tr>\n",
       "    <tr>\n",
       "      <th>...</th>\n",
       "      <td>...</td>\n",
       "      <td>...</td>\n",
       "      <td>...</td>\n",
       "      <td>...</td>\n",
       "      <td>...</td>\n",
       "      <td>...</td>\n",
       "      <td>...</td>\n",
       "      <td>...</td>\n",
       "      <td>...</td>\n",
       "      <td>...</td>\n",
       "      <td>...</td>\n",
       "      <td>...</td>\n",
       "      <td>...</td>\n",
       "      <td>...</td>\n",
       "      <td>...</td>\n",
       "      <td>...</td>\n",
       "      <td>...</td>\n",
       "      <td>...</td>\n",
       "      <td>...</td>\n",
       "      <td>...</td>\n",
       "      <td>...</td>\n",
       "    </tr>\n",
       "    <tr>\n",
       "      <th>lb</th>\n",
       "      <td>-0.147681</td>\n",
       "      <td>-0.078388</td>\n",
       "      <td>-0.012292</td>\n",
       "      <td>0.125420</td>\n",
       "      <td>-0.066196</td>\n",
       "      <td>-0.136725</td>\n",
       "      <td>0.199274</td>\n",
       "      <td>0.529181</td>\n",
       "      <td>-0.007701</td>\n",
       "      <td>0.052688</td>\n",
       "      <td>...</td>\n",
       "      <td>0.821697</td>\n",
       "      <td>0.827517</td>\n",
       "      <td>0.827517</td>\n",
       "      <td>0.827517</td>\n",
       "      <td>0.821697</td>\n",
       "      <td>1.000000</td>\n",
       "      <td>0.754400</td>\n",
       "      <td>0.754400</td>\n",
       "      <td>0.754400</td>\n",
       "      <td>1.000000</td>\n",
       "    </tr>\n",
       "    <tr>\n",
       "      <th>lcb</th>\n",
       "      <td>-0.115972</td>\n",
       "      <td>-0.027369</td>\n",
       "      <td>0.020683</td>\n",
       "      <td>0.138290</td>\n",
       "      <td>-0.093558</td>\n",
       "      <td>-0.110109</td>\n",
       "      <td>0.169137</td>\n",
       "      <td>0.464211</td>\n",
       "      <td>0.075876</td>\n",
       "      <td>0.051356</td>\n",
       "      <td>...</td>\n",
       "      <td>0.700071</td>\n",
       "      <td>0.719702</td>\n",
       "      <td>0.719702</td>\n",
       "      <td>0.719702</td>\n",
       "      <td>0.700071</td>\n",
       "      <td>0.754400</td>\n",
       "      <td>1.000000</td>\n",
       "      <td>1.000000</td>\n",
       "      <td>1.000000</td>\n",
       "      <td>0.754400</td>\n",
       "    </tr>\n",
       "    <tr>\n",
       "      <th>cb</th>\n",
       "      <td>-0.115972</td>\n",
       "      <td>-0.027369</td>\n",
       "      <td>0.020683</td>\n",
       "      <td>0.138290</td>\n",
       "      <td>-0.093558</td>\n",
       "      <td>-0.110109</td>\n",
       "      <td>0.169137</td>\n",
       "      <td>0.464211</td>\n",
       "      <td>0.075876</td>\n",
       "      <td>0.051356</td>\n",
       "      <td>...</td>\n",
       "      <td>0.700071</td>\n",
       "      <td>0.719702</td>\n",
       "      <td>0.719702</td>\n",
       "      <td>0.719702</td>\n",
       "      <td>0.700071</td>\n",
       "      <td>0.754400</td>\n",
       "      <td>1.000000</td>\n",
       "      <td>1.000000</td>\n",
       "      <td>1.000000</td>\n",
       "      <td>0.754400</td>\n",
       "    </tr>\n",
       "    <tr>\n",
       "      <th>rcb</th>\n",
       "      <td>-0.115972</td>\n",
       "      <td>-0.027369</td>\n",
       "      <td>0.020683</td>\n",
       "      <td>0.138290</td>\n",
       "      <td>-0.093558</td>\n",
       "      <td>-0.110109</td>\n",
       "      <td>0.169137</td>\n",
       "      <td>0.464211</td>\n",
       "      <td>0.075876</td>\n",
       "      <td>0.051356</td>\n",
       "      <td>...</td>\n",
       "      <td>0.700071</td>\n",
       "      <td>0.719702</td>\n",
       "      <td>0.719702</td>\n",
       "      <td>0.719702</td>\n",
       "      <td>0.700071</td>\n",
       "      <td>0.754400</td>\n",
       "      <td>1.000000</td>\n",
       "      <td>1.000000</td>\n",
       "      <td>1.000000</td>\n",
       "      <td>0.754400</td>\n",
       "    </tr>\n",
       "    <tr>\n",
       "      <th>rb</th>\n",
       "      <td>-0.147681</td>\n",
       "      <td>-0.078388</td>\n",
       "      <td>-0.012292</td>\n",
       "      <td>0.125420</td>\n",
       "      <td>-0.066196</td>\n",
       "      <td>-0.136725</td>\n",
       "      <td>0.199274</td>\n",
       "      <td>0.529181</td>\n",
       "      <td>-0.007701</td>\n",
       "      <td>0.052688</td>\n",
       "      <td>...</td>\n",
       "      <td>0.821697</td>\n",
       "      <td>0.827517</td>\n",
       "      <td>0.827517</td>\n",
       "      <td>0.827517</td>\n",
       "      <td>0.821697</td>\n",
       "      <td>1.000000</td>\n",
       "      <td>0.754400</td>\n",
       "      <td>0.754400</td>\n",
       "      <td>0.754400</td>\n",
       "      <td>1.000000</td>\n",
       "    </tr>\n",
       "  </tbody>\n",
       "</table>\n",
       "<p>84 rows × 84 columns</p>\n",
       "</div>"
      ],
      "text/plain": [
       "                       age   overall  potential  player_positions  \\\n",
       "age               1.000000  0.436108  -0.071597          0.014866   \n",
       "overall           0.436108  1.000000   0.805234         -0.048478   \n",
       "potential        -0.071597  0.805234   1.000000         -0.068835   \n",
       "player_positions  0.014866 -0.048478  -0.068835          1.000000   \n",
       "preferred_foot   -0.009099 -0.032994  -0.033190         -0.064753   \n",
       "...                    ...       ...        ...               ...   \n",
       "lb               -0.147681 -0.078388  -0.012292          0.125420   \n",
       "lcb              -0.115972 -0.027369   0.020683          0.138290   \n",
       "cb               -0.115972 -0.027369   0.020683          0.138290   \n",
       "rcb              -0.115972 -0.027369   0.020683          0.138290   \n",
       "rb               -0.147681 -0.078388  -0.012292          0.125420   \n",
       "\n",
       "                  preferred_foot  international_reputation  weak_foot  \\\n",
       "age                    -0.009099                  0.281662   0.085481   \n",
       "overall                -0.032994                  0.524089   0.227190   \n",
       "potential              -0.033190                  0.413315   0.197110   \n",
       "player_positions       -0.064753                 -0.059644   0.116476   \n",
       "preferred_foot          1.000000                 -0.005025   0.067217   \n",
       "...                          ...                       ...        ...   \n",
       "lb                     -0.066196                 -0.136725   0.199274   \n",
       "lcb                    -0.093558                 -0.110109   0.169137   \n",
       "cb                     -0.093558                 -0.110109   0.169137   \n",
       "rcb                    -0.093558                 -0.110109   0.169137   \n",
       "rb                     -0.066196                 -0.136725   0.199274   \n",
       "\n",
       "                  skill_moves  work_rate  player_tags  ...       lwb  \\\n",
       "age                 -0.002690   0.138972     0.048521  ... -0.203545   \n",
       "overall              0.275949   0.088029     0.217896  ... -0.221844   \n",
       "potential            0.281444   0.017087     0.191862  ... -0.135012   \n",
       "player_positions     0.158375   0.004321    -0.004024  ...  0.109297   \n",
       "preferred_foot      -0.096019   0.018061     0.005489  ... -0.042134   \n",
       "...                       ...        ...          ...  ...       ...   \n",
       "lb                   0.529181  -0.007701     0.052688  ...  0.821697   \n",
       "lcb                  0.464211   0.075876     0.051356  ...  0.700071   \n",
       "cb                   0.464211   0.075876     0.051356  ...  0.700071   \n",
       "rcb                  0.464211   0.075876     0.051356  ...  0.700071   \n",
       "rb                   0.529181  -0.007701     0.052688  ...  0.821697   \n",
       "\n",
       "                       ldm       cdm       rdm       rwb        lb       lcb  \\\n",
       "age              -0.238781 -0.238781 -0.238781 -0.203545 -0.147681 -0.115972   \n",
       "overall          -0.223131 -0.223131 -0.223131 -0.221844 -0.078388 -0.027369   \n",
       "potential        -0.117051 -0.117051 -0.117051 -0.135012 -0.012292  0.020683   \n",
       "player_positions  0.123754  0.123754  0.123754  0.109297  0.125420  0.138290   \n",
       "preferred_foot   -0.051659 -0.051659 -0.051659 -0.042134 -0.066196 -0.093558   \n",
       "...                    ...       ...       ...       ...       ...       ...   \n",
       "lb                0.827517  0.827517  0.827517  0.821697  1.000000  0.754400   \n",
       "lcb               0.719702  0.719702  0.719702  0.700071  0.754400  1.000000   \n",
       "cb                0.719702  0.719702  0.719702  0.700071  0.754400  1.000000   \n",
       "rcb               0.719702  0.719702  0.719702  0.700071  0.754400  1.000000   \n",
       "rb                0.827517  0.827517  0.827517  0.821697  1.000000  0.754400   \n",
       "\n",
       "                        cb       rcb        rb  \n",
       "age              -0.115972 -0.115972 -0.147681  \n",
       "overall          -0.027369 -0.027369 -0.078388  \n",
       "potential         0.020683  0.020683 -0.012292  \n",
       "player_positions  0.138290  0.138290  0.125420  \n",
       "preferred_foot   -0.093558 -0.093558 -0.066196  \n",
       "...                    ...       ...       ...  \n",
       "lb                0.754400  0.754400  1.000000  \n",
       "lcb               1.000000  1.000000  0.754400  \n",
       "cb                1.000000  1.000000  0.754400  \n",
       "rcb               1.000000  1.000000  0.754400  \n",
       "rb                0.754400  0.754400  1.000000  \n",
       "\n",
       "[84 rows x 84 columns]"
      ]
     },
     "execution_count": 19,
     "metadata": {},
     "output_type": "execute_result"
    }
   ],
   "source": [
    "cor_table"
   ]
  },
  {
   "cell_type": "code",
   "execution_count": 20,
   "id": "015ebea4",
   "metadata": {},
   "outputs": [
    {
     "name": "stdout",
     "output_type": "stream",
     "text": [
      "gk_speed\n",
      "gk_handling\n",
      "lb\n",
      "goalkeeping_kicking\n",
      "lm\n",
      "rcb\n",
      "shooting\n",
      "potential\n",
      "goalkeeping_handling\n",
      "lwb\n",
      "rm\n",
      "goalkeeping_reflexes\n",
      "cam\n",
      "rdm\n",
      "goalkeeping_diving\n",
      "cf\n",
      "gk_positioning\n",
      "rcm\n",
      "cb\n",
      "gk_reflexes\n",
      "rw\n",
      "cdm\n",
      "rs\n",
      "st\n",
      "rf\n",
      "rwb\n",
      "gk_kicking\n",
      "physic\n",
      "goalkeeping_positioning\n",
      "dribbling\n",
      "ram\n",
      "cm\n",
      "lf\n",
      "rb\n",
      "lcm\n",
      "passing\n",
      "ldm\n"
     ]
    }
   ],
   "source": [
    "for i in cor_list_atr:\n",
    "    print(i)"
   ]
  },
  {
   "cell_type": "code",
   "execution_count": 21,
   "id": "fb149e52",
   "metadata": {},
   "outputs": [
    {
     "data": {
      "text/plain": [
       "{'cam',\n",
       " 'cb',\n",
       " 'cdm',\n",
       " 'cf',\n",
       " 'cm',\n",
       " 'dribbling',\n",
       " 'gk_handling',\n",
       " 'gk_kicking',\n",
       " 'gk_positioning',\n",
       " 'gk_reflexes',\n",
       " 'gk_speed',\n",
       " 'goalkeeping_diving',\n",
       " 'goalkeeping_handling',\n",
       " 'goalkeeping_kicking',\n",
       " 'goalkeeping_positioning',\n",
       " 'goalkeeping_reflexes',\n",
       " 'lb',\n",
       " 'lcm',\n",
       " 'ldm',\n",
       " 'lf',\n",
       " 'lm',\n",
       " 'lwb',\n",
       " 'passing',\n",
       " 'physic',\n",
       " 'potential',\n",
       " 'ram',\n",
       " 'rb',\n",
       " 'rcb',\n",
       " 'rcm',\n",
       " 'rdm',\n",
       " 'rf',\n",
       " 'rm',\n",
       " 'rs',\n",
       " 'rw',\n",
       " 'rwb',\n",
       " 'shooting',\n",
       " 'st'}"
      ]
     },
     "execution_count": 21,
     "metadata": {},
     "output_type": "execute_result"
    }
   ],
   "source": [
    "cor_list_atr"
   ]
  },
  {
   "cell_type": "code",
   "execution_count": 22,
   "id": "39e8655f",
   "metadata": {},
   "outputs": [
    {
     "data": {
      "text/plain": [
       "37"
      ]
     },
     "execution_count": 22,
     "metadata": {},
     "output_type": "execute_result"
    }
   ],
   "source": [
    "len(cor_list_atr)"
   ]
  },
  {
   "cell_type": "code",
   "execution_count": 23,
   "id": "878c9d29",
   "metadata": {},
   "outputs": [],
   "source": [
    "newd = newd.drop(cor_list_atr, axis = 1)"
   ]
  },
  {
   "cell_type": "code",
   "execution_count": 24,
   "id": "e1a988f8",
   "metadata": {},
   "outputs": [
    {
     "data": {
      "text/plain": [
       "(15465, 47)"
      ]
     },
     "execution_count": 24,
     "metadata": {},
     "output_type": "execute_result"
    }
   ],
   "source": [
    " newd.shape"
   ]
  },
  {
   "cell_type": "code",
   "execution_count": null,
   "id": "05f5f078",
   "metadata": {},
   "outputs": [],
   "source": [
    "vals = []\n",
    "for i in newd.columns:\n",
    "    vals.append(dataf[i].loc[0])\n"
   ]
  },
  {
   "cell_type": "code",
   "execution_count": 26,
   "id": "cb7a742c",
   "metadata": {},
   "outputs": [],
   "source": [
    "from sklearn.ensemble import RandomForestRegressor"
   ]
  },
  {
   "cell_type": "code",
   "execution_count": 27,
   "id": "8f054128",
   "metadata": {},
   "outputs": [
    {
     "data": {
      "text/plain": [
       "RandomForestRegressor(max_depth=400, n_estimators=600, random_state=3)"
      ]
     },
     "execution_count": 27,
     "metadata": {},
     "output_type": "execute_result"
    }
   ],
   "source": [
    "model = RandomForestRegressor(n_estimators = 600, max_depth = 400,  random_state = 3)\n",
    "model"
   ]
  },
  {
   "cell_type": "code",
   "execution_count": 28,
   "id": "6e4dc1d9",
   "metadata": {},
   "outputs": [],
   "source": [
    "from sklearn.model_selection import train_test_split"
   ]
  },
  {
   "cell_type": "code",
   "execution_count": 29,
   "id": "a419b489",
   "metadata": {},
   "outputs": [],
   "source": [
    "yooo = newd.drop(['overall'], axis = 1)"
   ]
  },
  {
   "cell_type": "code",
   "execution_count": 31,
   "id": "9c87351c",
   "metadata": {},
   "outputs": [],
   "source": [
    "y = newd['overall']\n",
    "x = newd.drop(['overall'], axis = 1)"
   ]
  },
  {
   "cell_type": "code",
   "execution_count": 32,
   "id": "44456778",
   "metadata": {},
   "outputs": [],
   "source": [
    "x = scaler.fit_transform(x)"
   ]
  },
  {
   "cell_type": "code",
   "execution_count": 33,
   "id": "53d69de8",
   "metadata": {},
   "outputs": [],
   "source": [
    "Xtrain, Xtest, Ytrain, Ytest = train_test_split(x, y, train_size = 0.8, random_state = 40)"
   ]
  },
  {
   "cell_type": "code",
   "execution_count": 34,
   "id": "5cf65d09",
   "metadata": {},
   "outputs": [
    {
     "data": {
      "text/plain": [
       "RandomForestRegressor(max_depth=400, n_estimators=600, random_state=3)"
      ]
     },
     "execution_count": 34,
     "metadata": {},
     "output_type": "execute_result"
    }
   ],
   "source": [
    "model.fit(Xtrain, Ytrain)"
   ]
  },
  {
   "cell_type": "code",
   "execution_count": 35,
   "id": "a1384e17",
   "metadata": {},
   "outputs": [],
   "source": [
    "predict = model.predict(Xtest)"
   ]
  },
  {
   "cell_type": "code",
   "execution_count": 36,
   "id": "75cc4946",
   "metadata": {},
   "outputs": [],
   "source": [
    "from sklearn.metrics import r2_score, mean_squared_error, mean_absolute_error, accuracy_score"
   ]
  },
  {
   "cell_type": "code",
   "execution_count": 37,
   "id": "0de9434e",
   "metadata": {},
   "outputs": [
    {
     "data": {
      "text/plain": [
       "0.9007414741992483"
      ]
     },
     "execution_count": 37,
     "metadata": {},
     "output_type": "execute_result"
    }
   ],
   "source": [
    "r2_score(Ytest,predict)"
   ]
  },
  {
   "cell_type": "code",
   "execution_count": 38,
   "id": "bad10a12",
   "metadata": {},
   "outputs": [
    {
     "data": {
      "text/plain": [
       "5.161991498724719"
      ]
     },
     "execution_count": 38,
     "metadata": {},
     "output_type": "execute_result"
    }
   ],
   "source": [
    "mean_squared_error(Ytest,predict)"
   ]
  },
  {
   "cell_type": "code",
   "execution_count": 39,
   "id": "9af85fc6",
   "metadata": {},
   "outputs": [
    {
     "data": {
      "text/plain": [
       "1.5947839206811076"
      ]
     },
     "execution_count": 39,
     "metadata": {},
     "output_type": "execute_result"
    }
   ],
   "source": [
    "mean_absolute_error(Ytest, predict)"
   ]
  },
  {
   "cell_type": "code",
   "execution_count": 40,
   "id": "22eb21c0",
   "metadata": {},
   "outputs": [
    {
     "data": {
      "text/plain": [
       "2.272001650246918"
      ]
     },
     "execution_count": 40,
     "metadata": {},
     "output_type": "execute_result"
    }
   ],
   "source": [
    "np.sqrt(mean_squared_error(Ytest, predict))"
   ]
  },
  {
   "cell_type": "code",
   "execution_count": 41,
   "id": "c1ea595e",
   "metadata": {},
   "outputs": [
    {
     "data": {
      "text/plain": [
       "array([61.96      , 70.60333333, 64.23833333, ..., 69.09666667,\n",
       "       64.14666667, 62.205     ])"
      ]
     },
     "execution_count": 41,
     "metadata": {},
     "output_type": "execute_result"
    }
   ],
   "source": [
    "predict"
   ]
  },
  {
   "cell_type": "code",
   "execution_count": 42,
   "id": "19cb5395",
   "metadata": {},
   "outputs": [
    {
     "data": {
      "text/plain": [
       "array([60, 71, 65, ..., 69, 67, 61], dtype=int64)"
      ]
     },
     "execution_count": 42,
     "metadata": {},
     "output_type": "execute_result"
    }
   ],
   "source": [
    "Ytest.values"
   ]
  },
  {
   "cell_type": "code",
   "execution_count": 43,
   "id": "47ab693e",
   "metadata": {},
   "outputs": [
    {
     "data": {
      "text/plain": [
       "63.791880590580874"
      ]
     },
     "execution_count": 43,
     "metadata": {},
     "output_type": "execute_result"
    }
   ],
   "source": [
    "predict.mean()"
   ]
  },
  {
   "cell_type": "code",
   "execution_count": 44,
   "id": "e9fcf3d3",
   "metadata": {},
   "outputs": [
    {
     "data": {
      "text/plain": [
       "63.74135143873262"
      ]
     },
     "execution_count": 44,
     "metadata": {},
     "output_type": "execute_result"
    }
   ],
   "source": [
    "Ytest.mean()"
   ]
  },
  {
   "cell_type": "code",
   "execution_count": 45,
   "id": "109c7804",
   "metadata": {},
   "outputs": [],
   "source": [
    "import pickle"
   ]
  },
  {
   "cell_type": "code",
   "execution_count": 46,
   "id": "d56dc270",
   "metadata": {},
   "outputs": [],
   "source": [
    "filename = 'trained_model.sav'\n",
    "pickle.dump(model, open(filename, 'wb'))"
   ]
  },
  {
   "cell_type": "code",
   "execution_count": 47,
   "id": "800cfb42",
   "metadata": {},
   "outputs": [],
   "source": [
    "loaded_model = pickle.load(open('trained_model.sav', 'rb'))"
   ]
  },
  {
   "cell_type": "code",
   "execution_count": 48,
   "id": "5822c626",
   "metadata": {},
   "outputs": [],
   "source": [
    "predict_from_load = loaded_model.predict(Xtest)"
   ]
  },
  {
   "cell_type": "code",
   "execution_count": 49,
   "id": "8a89f222",
   "metadata": {},
   "outputs": [
    {
     "data": {
      "text/plain": [
       "0.9007414741992483"
      ]
     },
     "execution_count": 49,
     "metadata": {},
     "output_type": "execute_result"
    }
   ],
   "source": [
    "r2_score(Ytest,predict_from_load)"
   ]
  },
  {
   "cell_type": "code",
   "execution_count": 50,
   "id": "3c1e7b90",
   "metadata": {},
   "outputs": [],
   "source": [
    "d = Xtest"
   ]
  },
  {
   "cell_type": "code",
   "execution_count": 51,
   "id": "0b6e8109",
   "metadata": {},
   "outputs": [],
   "source": [
    "dy = Ytest"
   ]
  },
  {
   "cell_type": "code",
   "execution_count": 52,
   "id": "fcb83bb7",
   "metadata": {},
   "outputs": [],
   "source": [
    "pd.to_pickle(d, 'd.file')"
   ]
  },
  {
   "cell_type": "code",
   "execution_count": 53,
   "id": "baf3875b",
   "metadata": {},
   "outputs": [],
   "source": [
    "s = pd.read_pickle('d.file')"
   ]
  },
  {
   "cell_type": "code",
   "execution_count": 54,
   "id": "3b382e74",
   "metadata": {},
   "outputs": [],
   "source": [
    "x_review = newd.drop(['overall'], axis = 1)"
   ]
  },
  {
   "cell_type": "code",
   "execution_count": 55,
   "id": "9d50eb95",
   "metadata": {},
   "outputs": [],
   "source": [
    "pd.to_pickle(dy, 'dy.file')"
   ]
  },
  {
   "cell_type": "code",
   "execution_count": 56,
   "id": "52c1fa7a",
   "metadata": {},
   "outputs": [],
   "source": [
    "sy = pd.read_pickle('dy.file')"
   ]
  },
  {
   "cell_type": "code",
   "execution_count": 57,
   "id": "37f0f77b",
   "metadata": {},
   "outputs": [
    {
     "ename": "SyntaxError",
     "evalue": "invalid syntax (<ipython-input-57-8cbabfbcfb86>, line 1)",
     "output_type": "error",
     "traceback": [
      "\u001b[1;36m  File \u001b[1;32m\"<ipython-input-57-8cbabfbcfb86>\"\u001b[1;36m, line \u001b[1;32m1\u001b[0m\n\u001b[1;33m    for i in\u001b[0m\n\u001b[1;37m             ^\u001b[0m\n\u001b[1;31mSyntaxError\u001b[0m\u001b[1;31m:\u001b[0m invalid syntax\n"
     ]
    }
   ],
   "source": [
    "for i in "
   ]
  },
  {
   "cell_type": "code",
   "execution_count": null,
   "id": "955a1ead",
   "metadata": {},
   "outputs": [],
   "source": [
    "from sklearn.preprocessing import LabelEncoder\n",
    "encode = LabelEncoder()\n",
    "to_array = np.asarray(vals)\n",
    "arr_reshape = to_array.reshape(-1, 1)\n",
    "for i in range (len(vals)):\n",
    "    if type(vals[i]) == int:\n",
    "        pass\n",
    "    elif type(vals[i]) == float:\n",
    "        pass\n",
    "    vals[i] = encode.fit_transform(vals[i])\n",
    "\n",
    "predic = loaded_model.predict(arr_reshape)"
   ]
  },
  {
   "cell_type": "code",
   "execution_count": null,
   "id": "10784438",
   "metadata": {},
   "outputs": [],
   "source": []
  }
 ],
 "metadata": {
  "kernelspec": {
   "display_name": "Python 3",
   "language": "python",
   "name": "python3"
  },
  "language_info": {
   "codemirror_mode": {
    "name": "ipython",
    "version": 3
   },
   "file_extension": ".py",
   "mimetype": "text/x-python",
   "name": "python",
   "nbconvert_exporter": "python",
   "pygments_lexer": "ipython3",
   "version": "3.8.8"
  }
 },
 "nbformat": 4,
 "nbformat_minor": 5
}
